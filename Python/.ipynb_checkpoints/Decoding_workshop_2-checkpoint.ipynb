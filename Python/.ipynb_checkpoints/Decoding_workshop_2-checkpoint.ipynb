{
 "cells": [
  {
   "cell_type": "markdown",
   "id": "d709995b",
   "metadata": {},
   "source": [
    "## Part 2 – Analyzing the simulated data\n",
    "\n",
    "Now that we have our simulated data in a format very similar to what we would expect in a real experiment, we can start analyzing this data. \n",
    " \n",
    "### Loading the data from part 1"
   ]
  },
  {
   "cell_type": "code",
   "execution_count": 100,
   "id": "39d05e7b",
   "metadata": {},
   "outputs": [],
   "source": [
    "import numpy as np\n",
    "from matplotlib import pyplot as plt\n",
    "\n",
    "[spktimes,stim_type,stim_times,srate] = np.load('simulated_data1.npy',allow_pickle=True)"
   ]
  },
  {
   "cell_type": "markdown",
   "id": "8ddfc95c",
   "metadata": {},
   "source": [
    "First we can extract the number spikes per some unit of time for each cell, and organize this data into different trials. We are going to use bins of 100 ms with no overlap, going from 1 s before the start of each stimulus and to 3 s after it. Our resultant structure is a N by T by B spike count matrix, where N is the number of neurons (20), T is the number of trials (100) and B is the number of bins (40, in this case)."
   ]
  },
  {
   "cell_type": "code",
   "execution_count": 27,
   "id": "d78ed5e5",
   "metadata": {},
   "outputs": [],
   "source": [
    "binwidth = 0.1 # in seconds (100 ms)\n",
    "bins = np.arange(0,4*srate+binwidth*srate,binwidth*srate)\n",
    "        \n",
    "bins=bins/srate\n",
    "\n",
    "n_cells=len(spktimes)\n",
    "n_trials= len(stim_type)\n",
    "\n",
    "spk_matrix = np.zeros((n_cells,n_trials,len(bins)-1))\n",
    "\n",
    "for icell in np.arange(n_cells):\n",
    "    \n",
    "    spk = spktimes[icell]\n",
    "    \n",
    "    for itrial in np.arange(n_trials):\n",
    "        idx = np.where(np.logical_and(spk>stim_times[itrial]-1, spk<=stim_times[itrial]+3))[0]\n",
    "        \n",
    "        spk_temp = spk[idx]-(stim_times[itrial]-1)\n",
    "        \n",
    "        count = np.histogram(spk_temp,bins)\n",
    "        \n",
    "        spk_matrix[icell,itrial, :] = count[0]\n",
    "\n",
    "        \n",
    "# let's define our time vector as the center of each bin\n",
    "time_bins = bins[0:-1]+binwidth/2\n",
    "\n",
    "# we also want the time 0 to be the moment of the stimulus\n",
    "time_bins = time_bins -1"
   ]
  },
  {
   "cell_type": "markdown",
   "id": "d6cb1f5a",
   "metadata": {},
   "source": [
    "Plotting an example neuron\n",
    "Let's see the activity of one neuron across the time bins for different trials. Find a neuron in which you can clearly see the simulus modulation."
   ]
  },
  {
   "cell_type": "code",
   "execution_count": 50,
   "id": "da85415b",
   "metadata": {
    "scrolled": false
   },
   "outputs": [
    {
     "data": {
      "image/png": "[encoded data removed]",
      "text/plain": [
       "<Figure size 1000x500 with 1 Axes>"
      ]
     },
     "metadata": {},
     "output_type": "display_data"
    }
   ],
   "source": [
    "\n",
    "ineuron=5\n",
    "\n",
    "plt.figure(1,(10,5))\n",
    "plt.imshow(np.squeeze(spk_matrix[ineuron,:,:]), extent = [-1, 4, 1, n_trials],vmin=0,vmax=5, aspect='auto')\n",
    "plt.xlabel('Time from stimulus',fontsize=18)\n",
    "plt.ylabel('Trial #',fontsize=18)\n",
    "plt.show()"
   ]
  },
  {
   "cell_type": "markdown",
   "id": "5e9fe1fb",
   "metadata": {},
   "source": [
    "## Creating a SVM classifier\n",
    "\n",
    "With the activity of all the neurons separated in trials and time bins, we can now start training our SVM classifier. \n",
    "\n",
    "However, before going further, it is important to discuss two different sources of error in classification problems: the bias and the variance. \n",
    "\n",
    "Bias error arises from wrong assumptions made by the classifier, or limitations to extract the underlying relations between features of the data (e.g., underfitting). On the other hand, variance error arises from the variability of performance introduced by the sensitivity of the set of samples used to train the classifier (e.g., overfitting). \n",
    "\n",
    "We are going to see later a way of dealing with the bias. For now, we are going to use cross-validation to avoid overfitting. Cross validation consists in using different sets for training and testing, so that you don't risk creating a model that is overfitted to your sample. \n",
    "\n",
    "A simple way to do this is to use a K-fold crossvalidation scheeme. This consists in dividing your samples into K disjoints sets, and train K different models, separating, in each of them, a different set to test (and use the others sets to train). \n",
    "\n",
    "A common value for K is 10, but to simplify our computations we are going to use K=2."
   ]
  },
  {
   "cell_type": "code",
   "execution_count": 85,
   "id": "e0b7a3a7",
   "metadata": {},
   "outputs": [],
   "source": [
    "# from sklearn.model_selection import train_test_split\n",
    "from sklearn.model_selection import StratifiedKFold, KFold\n",
    "from sklearn import svm"
   ]
  },
  {
   "cell_type": "code",
   "execution_count": 93,
   "id": "b4e8a257",
   "metadata": {},
   "outputs": [],
   "source": [
    "ibin=10 # try ibin= 9, 10, 11\n",
    "performance=[];\n",
    "\n",
    "# separating the activity of our bin of interest\n",
    "bin_matrix = np.squeeze(spk_matrix[:,:,ibin]);\n",
    "\n",
    "\n",
    "# setting the 2-fold crossvalidation\n",
    "k=2\n",
    "\n",
    "skf = StratifiedKFold(n_splits=k, shuffle=True)\n",
    "\n",
    "# creating 2 disjoints sets of indexes\n",
    "for train,test in skf.split(bin_matrix.T,stim_type):\n",
    "    \n",
    "    # create a svm Classifier\n",
    "    svm_classifier = svm.SVC(kernel='linear') # Linear Kernel\n",
    "\n",
    "    # training the model using the training sets\n",
    "    svm_classifier.fit(bin_matrix[:,train].T, stim_type[train])\n",
    "\n",
    "    # predicting the stimulus type for test dataset\n",
    "    predicted_type = svm_classifier.predict(bin_matrix[:,test].T)\n",
    "    \n",
    "    performance.append(np.mean(predicted_type==stim_type[test]))"
   ]
  },
  {
   "cell_type": "code",
   "execution_count": 94,
   "id": "4aaf2ec2",
   "metadata": {},
   "outputs": [
    {
     "data": {
      "text/plain": [
       "[0.88, 0.88]"
      ]
     },
     "execution_count": 94,
     "metadata": {},
     "output_type": "execute_result"
    }
   ],
   "source": [
    "performance"
   ]
  },
  {
   "cell_type": "markdown",
   "id": "0713a1f6",
   "metadata": {},
   "source": [
    "The performance is then computed as the mean performance over the K-folds.\n"
   ]
  },
  {
   "cell_type": "code",
   "execution_count": 95,
   "id": "577e3b13",
   "metadata": {},
   "outputs": [],
   "source": [
    "mean_performance  = np.mean(performance)"
   ]
  },
  {
   "cell_type": "markdown",
   "id": "eb939a3e",
   "metadata": {},
   "source": [
    "### Excersice 1\n",
    "Calculate the mean performance for all the time bins and make a plot of mean performance vs time from the stimulus."
   ]
  },
  {
   "cell_type": "code",
   "execution_count": null,
   "id": "35afa4a7",
   "metadata": {},
   "outputs": [],
   "source": [
    "\n",
    "\n"
   ]
  },
  {
   "cell_type": "markdown",
   "id": "51b5b50b",
   "metadata": {},
   "source": [
    "### Exercise 2\n",
    "Explore different settings of the variable modulation (i.e., try to change the std of the distribution from which the its drawn). Compare the plot in Exercise 1 for each modulation value. What happens to the mean performance when you increase or decrease the std? \n",
    "\n",
    "Try to reason an explanation for the results you found. (Hint: try values like 0.1, 0.5 and 2)."
   ]
  },
  {
   "cell_type": "code",
   "execution_count": null,
   "id": "3a3bcf16",
   "metadata": {},
   "outputs": [],
   "source": [
    "\n",
    "\n"
   ]
  },
  {
   "cell_type": "markdown",
   "id": "9fafa335",
   "metadata": {},
   "source": [
    "### Assessing statistical significance with surrogates\n",
    "\n",
    "Looking at the figure generated in question 1 we can see that, although there is no information about the stimulus in the first second of our trial, we can still see some fluctuations. How do we determine if each value is significantly above chance?\n",
    "\n",
    "One way to do it is to try to 'destroy' any information about the stimulus type present in our data and see how high is this 'radom' performance. In fact, if we repeat this procedure multiple times, we can get a distribution of this 'radom' performance. This is called what we call a surrogate distribution. Let's implement it for two example timebins (bins 1 and 20).\n",
    "\n",
    "We can start considering only one bin. In our case, bin 1. The following code computes the mean performance using a 2-fold crossvalidation."
   ]
  },
  {
   "cell_type": "code",
   "execution_count": null,
   "id": "da6bcb4b",
   "metadata": {},
   "outputs": [],
   "source": [
    "\n",
    "ibin=1\n",
    "performance=[];\n",
    "\n",
    "# separating the activity of our bin of interest\n",
    "bin_matrix = np.squeeze(spk_matrix[:,:,ibin]);\n",
    "\n",
    "\n",
    "# setting the 2-fold crossvalidation\n",
    "k=2\n",
    "\n",
    "skf = StratifiedKFold(n_splits=k, shuffle=True)\n",
    "\n",
    "# creating 2 disjoints sets of indexes\n",
    "for train,test in skf.split(bin_matrix.T,stim_type):\n",
    "    \n",
    "    # create a svm Classifier\n",
    "    svm_classifier = svm.SVC(kernel='linear') # Linear Kernel\n",
    "\n",
    "    # training the model using the training sets\n",
    "    svm_classifier.fit(bin_matrix[:,train].T, stim_type[train])\n",
    "\n",
    "    # predicting the stimulus type for test dataset\n",
    "    predicted_type = svm_classifier.predict(bin_matrix[:,test].T)\n",
    "    \n",
    "    performance.append(np.mean(predicted_type==stim_type[test]))\n",
    "    \n",
    "mean_performance  = np.mean(performance)\n",
    "\n"
   ]
  },
  {
   "cell_type": "markdown",
   "id": "2b27f7e9",
   "metadata": {},
   "source": [
    "\n",
    "Now computing the surrogates:\n"
   ]
  },
  {
   "cell_type": "code",
   "execution_count": 159,
   "id": "50aee56a",
   "metadata": {},
   "outputs": [],
   "source": [
    "import random\n",
    "\n",
    "n_surr = 100\n",
    "mean_surr_performance=np.zeros(n_surr)\n",
    "\n",
    "for isurr in np.arange(n_surr):\n",
    "    performance=[]\n",
    "    # and then we use the shuffled stim_type vector to train the SVM\n",
    "    for train,test in skf.split(bin_matrix.T,stim_type):\n",
    "        \n",
    "        # For each surrogate let's randomly shuffle the training stim_type.\n",
    "        stim_type_shuff = stim_type[train].copy()\n",
    "        random.shuffle(stim_type_shuff)\n",
    "#         print(stim_type_shuff-stim_type[train])\n",
    "        \n",
    "        \n",
    "        # create a svm Classifier\n",
    "        svm_classifier = svm.SVC(kernel='linear') # Linear Kernel\n",
    "\n",
    "        # training the model using the training sets\n",
    "        svm_classifier.fit(bin_matrix[:,train].T, stim_type_shuff)\n",
    "        \n",
    "        # predicting the stimulus type for test dataset\n",
    "        predicted_type = svm_classifier.predict(bin_matrix[:,test].T)\n",
    "        \n",
    "        performance.append(np.mean(predicted_type==stim_type[test]))\n",
    "        \n",
    "    mean_surr_performance[isurr]  = np.mean(performance)"
   ]
  },
  {
   "cell_type": "markdown",
   "id": "e0f09225",
   "metadata": {},
   "source": [
    "Ploting the surrogate distribution and the real performance"
   ]
  },
  {
   "cell_type": "code",
   "execution_count": 161,
   "id": "957eaf82",
   "metadata": {},
   "outputs": [
    {
     "data": {
      "image/png": "[encoded data removed]",
      "text/plain": [
       "<Figure size 1000x500 with 1 Axes>"
      ]
     },
     "metadata": {},
     "output_type": "display_data"
    }
   ],
   "source": [
    "plt.figure(figsize=(10, 5))\n",
    "\n",
    "bins = np.arange(0,1+0.001,0.001)\n",
    "bins_center = bins[:-1]+0.005\n",
    "\n",
    "count = np.histogram(mean_surr_performance,bins)[0]\n",
    "plt.bar(bins_center,count,0.01)\n",
    "\n",
    "plt.vlines(mean_performance,0,10,colors='k',linestyles='dashed')\n",
    "plt.xlabel('Mean Performance')\n",
    "plt.ylabel('Counts')\n",
    "plt.title('Bin ' + str(ibin))\n",
    "plt.legend({'Surrogate distribution', 'Real value'})\n",
    "plt.show()\n"
   ]
  },
  {
   "cell_type": "markdown",
   "id": "ed7f2ed7",
   "metadata": {},
   "source": [
    "Now let's do the same for bin 15:"
   ]
  },
  {
   "cell_type": "code",
   "execution_count": 162,
   "id": "dba0b473",
   "metadata": {},
   "outputs": [
    {
     "data": {
      "image/png": "[encoded data removed]",
      "text/plain": [
       "<Figure size 1000x500 with 1 Axes>"
      ]
     },
     "metadata": {},
     "output_type": "display_data"
    }
   ],
   "source": [
    "\n",
    "ibin=15\n",
    "performance=[];\n",
    "\n",
    "# separating the activity of our bin of interest\n",
    "bin_matrix = np.squeeze(spk_matrix[:,:,ibin]);\n",
    "\n",
    "\n",
    "# setting the 2-fold crossvalidation\n",
    "k=2\n",
    "\n",
    "skf = StratifiedKFold(n_splits=k, shuffle=True)\n",
    "\n",
    "# creating 2 disjoints sets of indexes\n",
    "for train,test in skf.split(bin_matrix.T,stim_type):\n",
    "    \n",
    "    # create a svm Classifier\n",
    "    svm_classifier = svm.SVC(kernel='linear') # Linear Kernel\n",
    "\n",
    "    # training the model using the training sets\n",
    "    svm_classifier.fit(bin_matrix[:,train].T, stim_type[train])\n",
    "\n",
    "    # predicting the stimulus type for test dataset\n",
    "    predicted_type = svm_classifier.predict(bin_matrix[:,test].T)\n",
    "    \n",
    "    performance.append(np.mean(predicted_type==stim_type[test]))\n",
    "    \n",
    "mean_performance  = np.mean(performance)\n",
    "\n",
    "n_surr = 100\n",
    "mean_surr_performance=np.zeros(n_surr)\n",
    "\n",
    "for isurr in np.arange(n_surr):\n",
    "    performance=[]\n",
    "    # and then we use the shuffled stim_type vector to train the SVM\n",
    "    for train,test in skf.split(bin_matrix.T,stim_type):\n",
    "        \n",
    "        # For each surrogate let's randomly shuffle the training stim_type.\n",
    "        stim_type_shuff = stim_type[train].copy()\n",
    "        random.shuffle(stim_type_shuff)\n",
    "#         print(stim_type_shuff-stim_type[train])\n",
    "        \n",
    "        \n",
    "        # create a svm Classifier\n",
    "        svm_classifier = svm.SVC(kernel='linear') # Linear Kernel\n",
    "\n",
    "        # training the model using the training sets\n",
    "        svm_classifier.fit(bin_matrix[:,train].T, stim_type_shuff)\n",
    "        \n",
    "        # predicting the stimulus type for test dataset\n",
    "        predicted_type = svm_classifier.predict(bin_matrix[:,test].T)\n",
    "        \n",
    "        performance.append(np.mean(predicted_type==stim_type[test]))\n",
    "        \n",
    "    mean_surr_performance[isurr]  = np.mean(performance)\n",
    "    \n",
    "plt.figure(figsize=(10, 5))\n",
    "\n",
    "bins = np.arange(0,1+0.001,0.001)\n",
    "bins_center = bins[:-1]+0.005\n",
    "\n",
    "count = np.histogram(mean_surr_performance,bins)[0]\n",
    "plt.bar(bins_center,count,0.01)\n",
    "\n",
    "plt.vlines(mean_performance,0,10,colors='k',linestyles='dashed')\n",
    "plt.xlabel('Mean Performance')\n",
    "plt.ylabel('Counts')\n",
    "plt.title('Bin ' + str(ibin))\n",
    "plt.legend({'Surrogate distribution', 'Real value'})\n",
    "plt.show()\n"
   ]
  },
  {
   "cell_type": "markdown",
   "id": "0c20a613",
   "metadata": {},
   "source": [
    "So now we have a surrogate distribution of performance along with the real performance for bin 1 and 15. Note that bin 1 has a real value really close to the mean of the surrogate distribution, while bin 15 has a far higher value than the rest of the distribution.\n",
    "\n",
    "In fact, the mean of the surrogate distribution is an estimate of the bias of our classifier. Note that we can have different surrogate distributions for different timebins because they have different firing rate across the neurons. Now that we have surrogate distributions we can then think in a way of using it to normalize the real values, so that we can easily compare bins with diferent biases. For that, we are going to use the mean and the standard deviation (std) of the surrogates (Exercise 3).\n"
   ]
  },
  {
   "attachments": {},
   "cell_type": "markdown",
   "id": "6b47907b",
   "metadata": {},
   "source": [
    "### Exercise 3\n",
    "\n",
    "Replot the graphs in the previous cells normalizing the distribution and the real performance  by the mean  and the std  of the surrogates using a Z-score transformation:\n",
    "\n",
    "$$\n",
    "    P_{norm} = \\frac{P - \\mu}{\\sigma}\n",
    "$$\n",
    "\n",
    "This means that the x-axis will measure how far the real value is from the mean in units of standard deviations. (Hint: the bins used to compute the histogram will be different after the transformation)\n"
   ]
  },
  {
   "cell_type": "code",
   "execution_count": null,
   "id": "2b81bd52",
   "metadata": {},
   "outputs": [],
   "source": [
    "\n",
    "\n"
   ]
  },
  {
   "cell_type": "markdown",
   "id": "22f4e226",
   "metadata": {},
   "source": [
    "### Exercise 4\n",
    "Repeat the plot in Exercise 1 using the the z-scored values computed in the previous section. Also plot for each bin the maximum value of the (z-scored) surrogate distribution.\n"
   ]
  },
  {
   "cell_type": "code",
   "execution_count": null,
   "id": "b0235371",
   "metadata": {},
   "outputs": [],
   "source": [
    "\n",
    "\n"
   ]
  },
  {
   "cell_type": "markdown",
   "id": "4291e044",
   "metadata": {},
   "source": [
    "One important thing to notice here is that we can extract a significance value out of the surrogate distribution. In our case, because we only did 100 surrogates, the maximum surrogate value correspond to 1% of the distribution. So, if our real value is higher than this 1%, we can say that we have a p-value of p<0.01 (1%). In other words, if there is no information of the stimulus in the activity, and we repeat this experiment 100 times, we would have a spurious performance value higher than our real value in less than 1% of the times. That is what p<0.01 means.\n",
    "\n",
    "Notice that if we increase the number of surrogates to 1000, for example, the threshold for p<0.01 would not be in the maximum value of the surrogate (that would be the 0.1%), but in the 10th higher value. \n",
    "\n",
    "Finally, we can also think in the reverse way. We can look into the rank of our real value in the surrogate distribution and extract an 'exact' p-value. For example, if our real value is the higher than the 97% of the surrogate distribution, we can say it has p=0.03."
   ]
  }
 ],
 "metadata": {
  "kernelspec": {
   "display_name": "Python 3 (ipykernel)",
   "language": "python",
   "name": "python3"
  },
  "language_info": {
   "codemirror_mode": {
    "name": "ipython",
    "version": 3
   },
   "file_extension": ".py",
   "mimetype": "text/x-python",
   "name": "python",
   "nbconvert_exporter": "python",
   "pygments_lexer": "ipython3",
   "version": "3.10.4"
  }
 },
 "nbformat": 4,
 "nbformat_minor": 5
}
