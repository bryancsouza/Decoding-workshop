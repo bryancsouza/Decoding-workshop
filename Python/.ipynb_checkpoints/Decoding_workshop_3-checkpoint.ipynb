{
 "cells": [
  {
   "cell_type": "markdown",
   "id": "e48411cc",
   "metadata": {},
   "source": [
    "## Part3 - Analyzing real data\n",
    "\n",
    "So far, we have done a lot of work on simluated data. \n",
    "We know how to:\n",
    "- Preprocess the spike times into a spike count matrix;\n",
    "- Create a Support Vector Machine classifier;\n",
    "- Compute a surrogates distribution for this classifier.\n",
    "\n",
    "Now, let's try to apply those tools to real data.\n"
   ]
  },
  {
   "cell_type": "markdown",
   "id": "2163b0e8",
   "metadata": {},
   "source": [
    "### The organization of the real data\n",
    "\n",
    "We are going to use data from a similar task. A head-fixed mouse was trainned to differentiate between 2 sound stimuli. For each trial, one of the two stimulus would be played for 2 seconds (stimulus period) and then, after a 1-sec-window of silence (we call this the trace period), the animal would receive or not a reward (reward period), depending on wich sound was played. Because the stimuli and the reward periods do not overlap, we call this a trace-conditioning task. \n",
    "\n",
    "So now, in order to see the full extension of a trial, we are going to extract spikes from 1 second before the stimulus start (pre-stimulus period), to 4 seconds after it (2 s of stim, 1 s of trace and 1 s of reward periods).\n",
    "\n",
    "\n"
   ]
  },
  {
   "cell_type": "markdown",
   "id": "1bec3627",
   "metadata": {},
   "source": [
    "### Loading the data\n",
    "\n",
    "We first load the data, that is organized in the same way as our simulated data. "
   ]
  },
  {
   "cell_type": "code",
   "execution_count": 17,
   "id": "38d9e0de",
   "metadata": {},
   "outputs": [],
   "source": [
    "import numpy as np\n",
    "import random\n",
    "from matplotlib import pyplot as plt\n",
    "from sklearn.model_selection import StratifiedKFold, KFold\n",
    "from sklearn import svm\n",
    "\n",
    "\n",
    "[spktimes,stim_type,stim_times,srate] = np.load('real_data_example.npy',allow_pickle=True)\n"
   ]
  },
  {
   "cell_type": "code",
   "execution_count": 10,
   "id": "e901f727",
   "metadata": {},
   "outputs": [],
   "source": [
    "# # or you can try to import from the original matlab file\n",
    "# import scipy.io\n",
    "# mat = scipy.io.loadmat('real_data_example.mat')\n",
    "\n",
    "# spktimes = mat['spktimes']\n",
    "# stim_type = mat['stim_type']\n",
    "# stim_times = mat['stim_times']\n",
    "# srate = mat['srate']\n",
    "# #np.save('real_data_example',[spktimes,stim_type,stim_times,srate],allow_pickle=True)\n"
   ]
  },
  {
   "cell_type": "markdown",
   "id": "edb7439a",
   "metadata": {},
   "source": [
    "## Exercise 5\n",
    "Redo the plot in question 4 using the real data. \n",
    "\n",
    "(Although this seems a long question, you should be able to reuse most of the code so far. However, remeber that the duration of the trials is different now, and that might require some modifications in the code..)\n"
   ]
  },
  {
   "cell_type": "code",
   "execution_count": null,
   "id": "be6bb54e",
   "metadata": {},
   "outputs": [],
   "source": [
    "\n",
    "\n"
   ]
  },
  {
   "cell_type": "markdown",
   "id": "1b29b0a2",
   "metadata": {},
   "source": [
    "## Exercise 6\n",
    "\n",
    "Coment on the result you found on exercise 5. \n",
    "\n",
    "What can you conclude from the decoding performance on each period (pre-stimulus, stimulus, trace and reward)? \n",
    "\n",
    "What do you think of the decoding performance of the trace period? Did you expect that? \n",
    "\n"
   ]
  },
  {
   "cell_type": "markdown",
   "id": "b79f1ac6",
   "metadata": {},
   "source": [
    "\n",
    "\n"
   ]
  }
 ],
 "metadata": {
  "kernelspec": {
   "display_name": "Python 3 (ipykernel)",
   "language": "python",
   "name": "python3"
  },
  "language_info": {
   "codemirror_mode": {
    "name": "ipython",
    "version": 3
   },
   "file_extension": ".py",
   "mimetype": "text/x-python",
   "name": "python",
   "nbconvert_exporter": "python",
   "pygments_lexer": "ipython3",
   "version": "3.10.4"
  }
 },
 "nbformat": 4,
 "nbformat_minor": 5
}
