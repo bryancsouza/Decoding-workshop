{
 "cells": [
  {
   "cell_type": "markdown",
   "metadata": {},
   "source": [
    "# Decoding workshop\n",
    "\n",
    "The action potentials emitted by neurons are usually seen as the most elementary processing unit in the brain. In rodents, for example, one can have neurons that fire their action potentials for very elementary features such as orientation, color and position of a visual stimulus, or more abstract ones, such as being or not in the nest and the animal position.\n",
    "\n",
    "The existence of such neuronal activity correlates leads to the idea that, somehow, the external stimulus are ‘encoded’ in the neuronal spikes, and we use them to perceive the world. With this in mind, we can think that a good way to investigate how this stimulus ‘encoding’ is done is trying to do the reverse operation. In order words, to use some measured neuronal activity to decode an external known feature/stimulus. That is what we are going to do in this assignment.\n",
    "\n",
    "For that, we are going to use a Support Vector Machine classifier.\n"
   ]
  },
  {
   "cell_type": "markdown",
   "metadata": {},
   "source": [
    "## Part 1 – Simulating our data\n",
    "\n",
    "To understand the initial steps of neuronal decoding we are first going to use some simulated data. Suppose that the neural activity (i.e., spikes) of an animal is modulated by a given stimulus. Because later on we are going to use some real data using sound stimulation, let’s consider that we have two sound stimuli and each sound is repeated 25 times. Each sound have a duration of 2 seconds and are presented in intervals of 5 seconds.\n",
    "\n",
    "We first import the libraries we are going to use in python:"
   ]
  },
  {
   "cell_type": "code",
   "execution_count": 27,
   "metadata": {},
   "outputs": [],
   "source": [
    "import numpy as np\n",
    "from matplotlib import pyplot as plt"
   ]
  },
  {
   "cell_type": "markdown",
   "metadata": {},
   "source": [
    "### Creating the neuron firing rate profiles\n",
    "We will first modulate the activity of 20 neurons as an in-homogeneous Poisson process. Each neuron will have it’s mean firing rate drawn from a random exponential distribution with mean 5."
   ]
  },
  {
   "cell_type": "code",
   "execution_count": 3,
   "metadata": {},
   "outputs": [],
   "source": [
    "n_cells = 20\n",
    "n_stim_type = 2\n",
    "\n",
    "average_firing_rate = 5 # the peak firing rate, averaged across the population"
   ]
  },
  {
   "cell_type": "code",
   "execution_count": 14,
   "metadata": {},
   "outputs": [],
   "source": [
    "rng = np.random.default_rng(12345)\n",
    "cell_rate_baseline = rng.exponential(average_firing_rate,(1,n_cells))"
   ]
  },
  {
   "cell_type": "markdown",
   "metadata": {},
   "source": [
    "### Implementing changes in firing rate during stimulus\n",
    "Also, the mean firing rate of each neuron will be modulated by a multiplicative factor during the stimuli presentation, drawn from a normal distribution with mean 1 and 0.5 std."
   ]
  },
  {
   "cell_type": "code",
   "execution_count": 19,
   "metadata": {},
   "outputs": [],
   "source": [
    "modulation = (1+ 0.5*rng.normal(0,1,(1,n_cells)))\n",
    "\n",
    "cell_rate_stim1 = cell_rate_baseline*modulation"
   ]
  },
  {
   "cell_type": "markdown",
   "metadata": {},
   "source": [
    "To simplify, we are going to use opposite modulations for the different stimuli. In other words, if stim 1 is modulated by 1.2, stim 2 is modulated by 0.8."
   ]
  },
  {
   "cell_type": "code",
   "execution_count": 20,
   "metadata": {},
   "outputs": [],
   "source": [
    "cell_rate_stim2 = cell_rate_baseline*(2-modulation)\n",
    "\n",
    "cell_rate = np.zeros((n_cells,2,n_stim_type))\n",
    "\n",
    "cell_rate[:,0,0] = cell_rate_baseline\n",
    "cell_rate[:,0,1] = cell_rate_baseline\n",
    "\n",
    "cell_rate[:,1,0] = cell_rate_stim1\n",
    "cell_rate[:,1,1] = cell_rate_stim2\n"
   ]
  },
  {
   "cell_type": "markdown",
   "metadata": {},
   "source": [
    "This is to guarantee that no neuron has a negative firing rate in case we get any modulation value higher than 2."
   ]
  },
  {
   "cell_type": "code",
   "execution_count": 23,
   "metadata": {},
   "outputs": [],
   "source": [
    "cell_rate[cell_rate<0] = 0\n"
   ]
  },
  {
   "cell_type": "markdown",
   "metadata": {},
   "source": [
    "Let's look to how the firing rate of our neurons will behave:"
   ]
  },
  {
   "cell_type": "code",
   "execution_count": 64,
   "metadata": {},
   "outputs": [
    {
     "data": {
      "image/png": "[encoded data removed]",
      "text/plain": [
       "<Figure size 1000x500 with 4 Axes>"
      ]
     },
     "metadata": {},
     "output_type": "display_data"
    }
   ],
   "source": [
    "\n",
    "plt.figure(1,(10,5))\n",
    "plt.subplot(1,2,1)\n",
    "plt.imshow(np.squeeze(cell_rate[:,:,0]), extent = [0, 2, 1, n_cells],vmin=0,vmax=20, aspect='auto')\n",
    "plt.xticks([0.5,1.5],['Baseline', 'Stimulus'])\n",
    "plt.ylabel('Neuron #')\n",
    "plt.title('Firing rates for stimulus 1')\n",
    "plt.colorbar()\n",
    "\n",
    "plt.subplot(1,2,2)\n",
    "plt.imshow(np.squeeze(cell_rate[:,:,1]), extent = [0, 2, 1, n_cells],vmin=0,vmax=20, aspect='auto')\n",
    "plt.xticks([0.5,1.5],['Baseline', 'Stimulus'])\n",
    "plt.ylabel('Neuron #')\n",
    "plt.title('Firing rates for stimulus 1')\n",
    "plt.colorbar()\n",
    "\n",
    "plt.show()"
   ]
  },
  {
   "cell_type": "markdown",
   "metadata": {},
   "source": [
    "Simulating stimulus"
   ]
  },
  {
   "cell_type": "code",
   "execution_count": 90,
   "metadata": {},
   "outputs": [],
   "source": [
    "srate = 10000 # the sampling rate of our emulated recording system\n",
    "noise_rate = 1 # we are going to add some spike noise non related to the task\n",
    "n_stim = 100 # number of stimuli\n",
    "\n",
    "stim_dur = 2 # stimulus duration (in seconds)\n",
    "stim_interval = 5 # interval between stimuli (in seconds)\n",
    "\n",
    "#  1:stim_interval:stim_interval*n_stim;\n",
    "stim_times = np.arange(1,stim_interval*n_stim,stim_interval) # time of each stimulus (in seconds)\n",
    "stim_type = np.squeeze(np.concatenate((np.zeros((1,int(n_stim/2))), np.ones((1,int(n_stim/2)))),axis=1)) # identity of each stimulus\n",
    "\n",
    "\n",
    "ttime=max(stim_times)+stim_interval # total recorded time\n",
    "time = np.arange(0,ttime,1/srate) # time vector of the sampled times.\n"
   ]
  },
  {
   "cell_type": "code",
   "execution_count": 122,
   "metadata": {},
   "outputs": [],
   "source": [
    "spktimes=[]\n",
    "for icell in np.arange(n_cells):\n",
    "\n",
    "    # Creating the spikes with the baseline firing rate\n",
    "    spikes  = rng.poisson(cell_rate[icell,0,0]/srate, (1,len(time)))\n",
    "#     spikes = poissrnd(cell_rate(icell,1,1)/srate,[1,length(time)]);\n",
    "\n",
    "    for itype in np.arange(n_stim_type):\n",
    "        # find the indexes of each of the stimulus\n",
    "        trialidx = stim_type == itype\n",
    "\n",
    "        # for those indexes, get the stimulus start time\n",
    "        for stim_start in stim_times[trialidx]:\n",
    "\n",
    "            # from the start of the stimulus until it's duration we use a\n",
    "            # different firing rate for the poisson process, which depends\n",
    "            # on the stimulus type.\n",
    "            idx = np.where(np.logical_and(time>stim_start, time<=stim_start+stim_dur))[0]\n",
    "            spikes[0,idx] = rng.poisson(cell_rate[icell,1,itype]/srate, (1,len(idx)))\n",
    "\n",
    "    # at last we add the spike noise\n",
    "    \n",
    "    spikes = spikes + rng.poisson(noise_rate/srate, (1,len(time)))\n",
    "\n",
    "    idx = spikes>0\n",
    "    spktimes.append(time[idx[0,:]])"
   ]
  },
  {
   "cell_type": "markdown",
   "metadata": {},
   "source": [
    "Now we have some time series very similar to what we would get in a real experiment. The timestamps of each neuronal spikes (SPKTIMES), and the  stimuli time (STIM_TIMES) and type (STIM_TYPE). Let's save this data, and go on from the next script."
   ]
  },
  {
   "cell_type": "code",
   "execution_count": 129,
   "metadata": {},
   "outputs": [],
   "source": [
    "np.save('simulated_data1',[spktimes,stim_type,stim_times,srate],allow_pickle=True)"
   ]
  }
 ],
 "metadata": {
  "kernelspec": {
   "display_name": "Python 3 (ipykernel)",
   "language": "python",
   "name": "python3"
  },
  "language_info": {
   "codemirror_mode": {
    "name": "ipython",
    "version": 3
   },
   "file_extension": ".py",
   "mimetype": "text/x-python",
   "name": "python",
   "nbconvert_exporter": "python",
   "pygments_lexer": "ipython3",
   "version": "3.10.4"
  }
 },
 "nbformat": 4,
 "nbformat_minor": 1
}
